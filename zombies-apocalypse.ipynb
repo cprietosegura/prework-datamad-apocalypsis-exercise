{
 "cells": [
  {
   "cell_type": "code",
   "execution_count": 1,
   "metadata": {},
   "outputs": [
    {
     "name": "stdout",
     "output_type": "stream",
     "text": [
      "Puedes matar 30 zombies.\n"
     ]
    }
   ],
   "source": [
    "#CASO 0 \n",
    "\n",
    "armas = ['pistola','escopeta']\n",
    "cargadores = {\n",
    "    'pistola': [10, 10], \n",
    "    'escopeta': [2, 2, 2, 2, 2]\n",
    "}\n",
    "\n",
    "zombies=0\n",
    "\n",
    "for arma in cargadores:\n",
    "  if arma in armas:\n",
    "    zombies += (sum(cargadores[arma]))\n",
    "\n",
    "print('Puedes matar %s zombies.' % zombies)"
   ]
  },
  {
   "cell_type": "code",
   "execution_count": 2,
   "metadata": {},
   "outputs": [
    {
     "name": "stdout",
     "output_type": "stream",
     "text": [
      "Puedes matar 158 zombies.\n"
     ]
    }
   ],
   "source": [
    "#CASO 1 Mismas armas que municiones\n",
    "\n",
    "armas = ['pistola', 'ametralladora', 'escopeta', 'fusil de francotirador']\n",
    "cargadores = {\n",
    "    'pistola': [12, 13, 4, 5, 20, 17], \n",
    "    'ametralladora': [33, 40], \n",
    "    'escopeta': [2, 2, 2, 1], \n",
    "    'fusil de francotirador': [1, 2, 4]\n",
    "}\n",
    "\n",
    "zombies=0\n",
    "\n",
    "for arma in cargadores:\n",
    "  if arma in armas:\n",
    "    zombies += (sum(cargadores[arma]))\n",
    "\n",
    "print('Puedes matar %s zombies.' % zombies)"
   ]
  },
  {
   "cell_type": "code",
   "execution_count": 3,
   "metadata": {},
   "outputs": [
    {
     "name": "stdout",
     "output_type": "stream",
     "text": [
      "Puedes matar 158 zombies.\n"
     ]
    }
   ],
   "source": [
    "# CASO 2 Más tipos de munición que armas\n",
    "armas = ['pistola', 'ametralladora', 'escopeta', 'fusil de francotirador']\n",
    "cargadores = {\n",
    "    'pistola': [12, 13, 4, 5, 20, 17], \n",
    "    'ametralladora': [33, 40], \n",
    "    'escopeta': [2, 2, 2, 1], \n",
    "    'fusil de francotirador': [1, 2, 4], \n",
    "    'bazoka': [1, 1]\n",
    "}\n",
    "zombies=0\n",
    "\n",
    "for arma in cargadores:\n",
    "  if arma in armas:\n",
    "    zombies += (sum(cargadores[arma]))\n",
    "\n",
    "print('Puedes matar %s zombies.' % zombies)"
   ]
  },
  {
   "cell_type": "code",
   "execution_count": 4,
   "metadata": {},
   "outputs": [
    {
     "name": "stdout",
     "output_type": "stream",
     "text": [
      "Puedes matar 151 zombies.\n"
     ]
    }
   ],
   "source": [
    "#CASO 3: Más armas que tipos de munición\n",
    "armas = ['pistola', 'ametralladora', 'escopeta', 'fusil de francotirador']\n",
    "\n",
    "cargadores = {\n",
    "    'pistola': [12, 13, 4, 5, 20, 17], \n",
    "    'ametralladora': [33, 40], \n",
    "    'escopeta': [2, 2, 2, 1] \n",
    "}\n",
    "zombies=0\n",
    "\n",
    "for arma in cargadores:\n",
    "  if arma in armas:\n",
    "    zombies += (sum(cargadores[arma]))\n",
    "\n",
    "print('Puedes matar %s zombies.' % zombies)"
   ]
  },
  {
   "cell_type": "code",
   "execution_count": null,
   "metadata": {},
   "outputs": [],
   "source": []
  }
 ],
 "metadata": {
  "kernelspec": {
   "display_name": "Python 3",
   "language": "python",
   "name": "python3"
  },
  "language_info": {
   "codemirror_mode": {
    "name": "ipython",
    "version": 3
   },
   "file_extension": ".py",
   "mimetype": "text/x-python",
   "name": "python",
   "nbconvert_exporter": "python",
   "pygments_lexer": "ipython3",
   "version": "3.5.2"
  }
 },
 "nbformat": 4,
 "nbformat_minor": 2
}
